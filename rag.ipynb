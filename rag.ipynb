{
 "cells": [
  {
   "cell_type": "code",
   "execution_count": 20,
   "metadata": {},
   "outputs": [],
   "source": [
    "\n",
    "\n",
    "MODEL = \"llama2\""
   ]
  },
  {
   "cell_type": "code",
   "execution_count": 21,
   "metadata": {},
   "outputs": [
    {
     "data": {
      "text/plain": [
       "\"\\nWhy don't scientists trust atoms? Because they make up everything! 😂\""
      ]
     },
     "execution_count": 21,
     "metadata": {},
     "output_type": "execute_result"
    }
   ],
   "source": [
    "from langchain_community.llms import Ollama\n",
    "from langchain_community.embeddings import OllamaEmbeddings\n",
    "\n",
    "model = Ollama(model=MODEL)\n",
    "embeddings = OllamaEmbeddings(model=MODEL)\n",
    "\n",
    "model.invoke(\"Tell me a joke\")"
   ]
  },
  {
   "cell_type": "code",
   "execution_count": 22,
   "metadata": {},
   "outputs": [
    {
     "data": {
      "text/plain": [
       "\"Sure! Here's one:\\n\\nWhy don't scientists trust atoms?\\nBecause they make up everything!\\n\\nI hope you found that amusing. If you want to hear another, just let me know!\""
      ]
     },
     "execution_count": 22,
     "metadata": {},
     "output_type": "execute_result"
    }
   ],
   "source": [
    "from langchain_core.output_parsers import StrOutputParser\n",
    "\n",
    "parser = StrOutputParser()\n",
    "\n",
    "chain = model | parser \n",
    "chain.invoke(\"Tell me a joke\")"
   ]
  },
  {
   "cell_type": "code",
   "execution_count": 23,
   "metadata": {},
   "outputs": [
    {
     "data": {
      "text/plain": [
       "'\\nAnswer the question based on the medicines below. If you can\\'t \\nanswer the question, reply \"I don\\'t know\". Don\\'t add reference to it.\\n\\nContext: About medicines\\n\\nQuestion: Here is a question\\n'"
      ]
     },
     "execution_count": 23,
     "metadata": {},
     "output_type": "execute_result"
    }
   ],
   "source": [
    "from langchain.prompts import PromptTemplate\n",
    "\n",
    "template = \"\"\"\n",
    "Answer the question based on the medicines below. If you can't \n",
    "answer the question, reply \"I don't know\". Don't add reference to it.\n",
    "\n",
    "Context: {context}\n",
    "\n",
    "Question: {question}\n",
    "\"\"\"\n",
    "\n",
    "prompt = PromptTemplate.from_template(template)\n",
    "prompt.format(context=\"About medicines\", question=\"tell about clavam 650\")"
   ]
  },
  {
   "cell_type": "code",
   "execution_count": 30,
   "metadata": {},
   "outputs": [],
   "source": [
    "ques = input(\"whats your question?\")"
   ]
  },
  {
   "cell_type": "code",
   "execution_count": 24,
   "metadata": {},
   "outputs": [
    {
     "data": {
      "text/plain": [
       "' Sure, I\\'d be happy to help! Based on the information provided, my answer to the question \"What\\'s your name?\" would be \"Santiago.\"'"
      ]
     },
     "execution_count": 24,
     "metadata": {},
     "output_type": "execute_result"
    }
   ],
   "source": [
    "chain = prompt | model | parser\n",
    "\n",
    "response = chain.invoke({\"context\": \"Give the details about given medicine\", \"question\": f\"{ques}\"})"
   ]
  },
  {
   "cell_type": "code",
   "execution_count": 25,
   "metadata": {},
   "outputs": [
    {
     "data": {
      "text/plain": [
       "Document(metadata={'source': 'C:\\\\hackX\\\\druglist.pdf', 'page': 0}, page_content='Sl No Drug name Category\\n1 Lignocaine HCl injection I.P 1% Anaesthetics\\n2 Lignocaine +nifedipine ointment Anaesthetics\\n3 Prilocaine lignocaine       inj Anaesthetics\\n4 Alprazolam tab I.P 0.25 mg,                                                                                               Preanaesthetic medications\\n5 Alprazolam tab I.P 0.5 mg\\n6 Amitriptyline tab I.P 10 mg Preanaesthetic medications\\n7 Midazolam   inj 5 mg/ml Preanaesthetic medications\\n8 Midazolam  I nj 5 mg/5 ml Preanaesthetic medications\\n9 Midazolam nasal spray 5mg/ml Preanaesthetic medications\\n10 Propantheline tab 15 mg Preanaesthetic medications\\n11 Paracetamol suppository 100 mg NSAIDS\\n12 Paracetamol inj 500 mg NSAIDS\\n13 Paracetamol tab 650 mg NSAIDS\\n14 Paracetamol tab 1000 mg NSAIDS\\n15 Paracetamol drops 100 mg/ml NSAIDS\\n16 Diclofenac sodium spray NSAIDS\\n17Diclofenac sodium +  Serratiopeptidase Tab (50mg+ \\n10mg)NSAIDS\\n18 Diclofenac potassium tab 75 mg, NSAIDS\\n19 Diclofenac potassium tab 100 mg\\n20 Diclofenac potassium gel 1 % NSAIDS\\n21 Piroxicam  Inj 20mg/ml NSAIDS\\n22 Piroxicam     gel 0.5% NSAIDS\\n23 Piroxicam Tab I.P  20 mg\\n24 Mefenamic acid syr 100 mg/5ml NSAIDS\\n25 Mefenamic acid DT 500 mg\\n26 Mefenamic acid spray NSAIDS\\n27 Mefenamic acid capsules I.P 250 mg NSAIDS\\n28 Aceclofenac gel NSAIDS\\n29 Serratiopeptidase I.P  tab 5 mg, NSAIDS\\n30 Lornoxicam tab 8 mg, NSAIDS\\n31 Lornoxicam tab 4 mg\\n32 Etoricoxib tab 60 mg, NSAIDS\\n33 Etoricoxib tab 90mg,\\n34 Etoricoxib tab 120 mg\\n35 Tramadol tab 50 mg, OPIOID ANALGESICS\\n36 Tramadol inj 100 mg/ml OPIOID ANALGESICSDRUG LIST - GENERIC MEDICINE')"
      ]
     },
     "execution_count": 25,
     "metadata": {},
     "output_type": "execute_result"
    }
   ],
   "source": [
    "from langchain_community.document_loaders import PyPDFLoader\n",
    "\n",
    "loader = PyPDFLoader(\"C:\\hackX\\druglist.pdf\")\n",
    "pages = loader.load_and_split()\n",
    "pages[0]"
   ]
  },
  {
   "cell_type": "code",
   "execution_count": 26,
   "metadata": {},
   "outputs": [],
   "source": [
    "from langchain_community.vectorstores import DocArrayInMemorySearch\n",
    "\n",
    "vectorstore = DocArrayInMemorySearch.from_documents(pages, embedding=embeddings)"
   ]
  },
  {
   "cell_type": "code",
   "execution_count": 27,
   "metadata": {},
   "outputs": [
    {
     "data": {
      "text/plain": [
       "Document(metadata={'source': 'C:\\\\hackX\\\\druglist.pdf', 'page': 14}, page_content='498 Levamisole Immune mediators\\n499 Methotrexate inj 50g/2ml ANTICANCER DRUGS\\n500 Mycophenolate mofetil Immune mediators')"
      ]
     },
     "execution_count": 27,
     "metadata": {},
     "output_type": "execute_result"
    }
   ],
   "source": [
    "retriever = vectorstore.as_retriever()\n",
    "retriever.invoke(\"Formoterol+ Budesonide MDI,DPI,Rotacap \")[0]"
   ]
  },
  {
   "cell_type": "code",
   "execution_count": 28,
   "metadata": {},
   "outputs": [],
   "source": [
    "from operator import itemgetter\n",
    "\n",
    "chain = (\n",
    "    {\n",
    "        \"context\": itemgetter(\"question\") | retriever,\n",
    "        \"question\": itemgetter(\"question\"),\n",
    "    }\n",
    "    | prompt\n",
    "    | model\n",
    "    | parser\n",
    ")"
   ]
  },
  {
   "cell_type": "code",
   "execution_count": 29,
   "metadata": {},
   "outputs": [
    {
     "name": "stdout",
     "output_type": "stream",
     "text": [
      "Question: Lignocaine HCl injection I.P 1% \n",
      "Answer: The information you provided is a list of drugs and medical supplies, including lignocaine HCl injection I.P 1%. Here is the information for lignocaine HCl injection I.P 1%:\n",
      "\n",
      "* Name: Lignocaine HCl injection I.P 1%\n",
      "* Formulation: Injection, solution\n",
      "* Strength: 1% (lignocaine)\n",
      "* Indications: Topical anesthesia for local infiltration, nerve blocks, and epidural anesthesia\n",
      "* Dosage and administration: The recommended dose is 2-5 mL of the solution for each injection. It should be administered slowly and carefully to avoid inadvertent intravascular injection.\n",
      "* Contraindications: Known hypersensitivity to lignocaine or any other ingredient in the formulation, as well as in patients with a history of cardiovascular disease, heart block, or respiratory disease.\n",
      "* Special precautions: The solution should be administered slowly and carefully to avoid inadvertent intravascular injection. In addition, lignocaine can cause a drop in blood pressure and tachycardia, particularly when used for epidural anesthesia.\n",
      "* Side effects: Headache, dizziness, nausea, vomiting, and bradycardia have been reported with the use of lignocaine injection.\n",
      "* Interactions: None are known to occur with the use of lignocaine HCl injection I.P 1%.\n",
      "* Renal impairment: The solution should be used with caution in patients with renal impairment, as lignocaine is primarily excreted by the kidneys and may accumulate in these patients.\n",
      "* Pregnancy and lactation: Lignocaine HCl injection I.P 1% has not been tested for safety and efficacy in pregnant or lactating women. Therefore, it should be used with caution in these patient populations.\n",
      "\n",
      "It is important to note that this information is intended as a summary of the drug's pharmacological actions and is not intended to be taken as medical advice. If you have any specific questions about lignocaine HCl injection I.P 1%, please consult with your healthcare provider or a qualified medical professional.\n",
      "\n"
     ]
    }
   ],
   "source": [
    "questions = [\n",
    "    \"Lignocaine HCl injection I.P 1% \"\n",
    "]\n",
    "\n",
    "for question in questions:\n",
    "    print(f\"Question: {question}\")\n",
    "    print(f\"Answer: {chain.invoke({'question': question})}\")\n",
    "    print()"
   ]
  },
  {
   "cell_type": "code",
   "execution_count": null,
   "metadata": {},
   "outputs": [],
   "source": []
  }
 ],
 "metadata": {
  "kernelspec": {
   "display_name": "Python 3",
   "language": "python",
   "name": "python3"
  },
  "language_info": {
   "codemirror_mode": {
    "name": "ipython",
    "version": 3
   },
   "file_extension": ".py",
   "mimetype": "text/x-python",
   "name": "python",
   "nbconvert_exporter": "python",
   "pygments_lexer": "ipython3",
   "version": "3.10.0"
  }
 },
 "nbformat": 4,
 "nbformat_minor": 2
}
